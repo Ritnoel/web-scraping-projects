{
 "cells": [
  {
   "cell_type": "code",
   "execution_count": 2,
   "id": "9e979612",
   "metadata": {},
   "outputs": [],
   "source": [
    "from bs4 import BeautifulSoup\n",
    "import requests"
   ]
  },
  {
   "cell_type": "code",
   "execution_count": 4,
   "id": "2d83d8d3",
   "metadata": {},
   "outputs": [
    {
     "data": {
      "text/plain": [
       "<Response [200]>"
      ]
     },
     "execution_count": 4,
     "metadata": {},
     "output_type": "execute_result"
    }
   ],
   "source": [
    "url = 'https://en.wikipedia.org/wiki/Netherlands'\n",
    "\n",
    "response = requests.get(url)\n",
    "response"
   ]
  },
  {
   "cell_type": "code",
   "execution_count": null,
   "id": "8eab8b27",
   "metadata": {},
   "outputs": [],
   "source": [
    "soup = BeautifulSoup(response.content, 'html.parser')\n",
    "soup"
   ]
  },
  {
   "cell_type": "code",
   "execution_count": null,
   "id": "ecbf0b0e",
   "metadata": {},
   "outputs": [],
   "source": [
    "soup = BeautifulSoup(response.text, 'html.parser')\n",
    "soup"
   ]
  },
  {
   "cell_type": "markdown",
   "id": "a714ac7a",
   "metadata": {},
   "source": [
    "#FIND"
   ]
  },
  {
   "cell_type": "code",
   "execution_count": 11,
   "id": "8c768967",
   "metadata": {},
   "outputs": [
    {
     "data": {
      "text/plain": [
       "'Netherlands - Wikipedia'"
      ]
     },
     "execution_count": 11,
     "metadata": {},
     "output_type": "execute_result"
    }
   ],
   "source": [
    "title = soup.find('title').text\n",
    "title"
   ]
  },
  {
   "cell_type": "code",
   "execution_count": 12,
   "id": "17d4250e",
   "metadata": {},
   "outputs": [
    {
     "data": {
      "text/plain": [
       "<title>Netherlands - Wikipedia</title>"
      ]
     },
     "execution_count": 12,
     "metadata": {},
     "output_type": "execute_result"
    }
   ],
   "source": [
    "title = soup.find('title')\n",
    "title"
   ]
  },
  {
   "cell_type": "code",
   "execution_count": 23,
   "id": "cc5b8910",
   "metadata": {},
   "outputs": [
    {
     "data": {
      "text/plain": [
       "<div class=\"mw-heading mw-heading3\"><h3 id=\"Netherlands_and_the_Low_Countries\">Netherlands and the Low Countries</h3></div>"
      ]
     },
     "execution_count": 23,
     "metadata": {},
     "output_type": "execute_result"
    }
   ],
   "source": [
    "heading = soup.find('div', class_='mw-heading mw-heading3')\n",
    "\n",
    "heading"
   ]
  },
  {
   "cell_type": "markdown",
   "id": "10dde766",
   "metadata": {},
   "source": [
    "#FIND_ALL"
   ]
  },
  {
   "cell_type": "code",
   "execution_count": null,
   "id": "a96a9687",
   "metadata": {},
   "outputs": [],
   "source": [
    "heading2 = soup.find_all('div', class_='mw-heading mw-heading3')\n",
    "heading2"
   ]
  },
  {
   "cell_type": "code",
   "execution_count": null,
   "id": "51668a93",
   "metadata": {},
   "outputs": [],
   "source": [
    "heading2 = soup.find_all('div', class_='mw-heading mw-heading3')\n",
    "for i in heading2:\n",
    "    print(i.text)"
   ]
  },
  {
   "cell_type": "code",
   "execution_count": null,
   "id": "9d9f8448",
   "metadata": {},
   "outputs": [
    {
     "name": "stdout",
     "output_type": "stream",
     "text": [
      "using select_one(): Netherlands\n"
     ]
    }
   ],
   "source": [
    "#select_one\n",
    "#get the first h1 element\n",
    "a = soup.select_one('h1')\n",
    "print('using select_one():', a.text if a else None)\n"
   ]
  },
  {
   "cell_type": "code",
   "execution_count": 42,
   "id": "f738fb32",
   "metadata": {},
   "outputs": [
    {
     "name": "stdout",
     "output_type": "stream",
     "text": [
      "Contents\n",
      "Etymology\n",
      "History\n",
      "Geography\n",
      "Government and politics\n",
      "Economy\n",
      "Demographics\n",
      "Transport\n",
      "Culture\n",
      "See also\n",
      "Notes\n",
      "References\n",
      "External links\n"
     ]
    }
   ],
   "source": [
    "# Get all h2 elements \n",
    "all_links = soup.select('h2')\n",
    "for link in all_links:\n",
    "    print(link.text)\n"
   ]
  },
  {
   "cell_type": "code",
   "execution_count": null,
   "id": "c7c98c78",
   "metadata": {},
   "outputs": [],
   "source": []
  }
 ],
 "metadata": {
  "kernelspec": {
   "display_name": "base",
   "language": "python",
   "name": "python3"
  },
  "language_info": {
   "codemirror_mode": {
    "name": "ipython",
    "version": 3
   },
   "file_extension": ".py",
   "mimetype": "text/x-python",
   "name": "python",
   "nbconvert_exporter": "python",
   "pygments_lexer": "ipython3",
   "version": "3.9.17"
  }
 },
 "nbformat": 4,
 "nbformat_minor": 5
}
